{
 "cells": [
  {
   "cell_type": "code",
   "execution_count": 1,
   "metadata": {},
   "outputs": [
    {
     "ename": "ModuleNotFoundError",
     "evalue": "No module named 'matplotlib'",
     "output_type": "error",
     "traceback": [
      "\u001b[1;31m---------------------------------------------------------------------------\u001b[0m",
      "\u001b[1;31mModuleNotFoundError\u001b[0m                       Traceback (most recent call last)",
      "\u001b[1;32mc:\\Users\\archa\\Archana\\open-source-contribution-for-beginners\\Know Your Code\\Python\\Data Visualizaation\\PDV.ipynb Cell 1'\u001b[0m in \u001b[0;36m<cell line: 4>\u001b[1;34m()\u001b[0m\n\u001b[0;32m      <a href='vscode-notebook-cell:/c%3A/Users/archa/Archana/open-source-contribution-for-beginners/Know%20Your%20Code/Python/Data%20Visualizaation/PDV.ipynb#ch0000000?line=0'>1</a>\u001b[0m \u001b[39m#PIE CHART \u001b[39;00m\n\u001b[0;32m      <a href='vscode-notebook-cell:/c%3A/Users/archa/Archana/open-source-contribution-for-beginners/Know%20Your%20Code/Python/Data%20Visualizaation/PDV.ipynb#ch0000000?line=1'>2</a>\u001b[0m \n\u001b[0;32m      <a href='vscode-notebook-cell:/c%3A/Users/archa/Archana/open-source-contribution-for-beginners/Know%20Your%20Code/Python/Data%20Visualizaation/PDV.ipynb#ch0000000?line=2'>3</a>\u001b[0m \u001b[39m#Chart 1\u001b[39;00m\n\u001b[1;32m----> <a href='vscode-notebook-cell:/c%3A/Users/archa/Archana/open-source-contribution-for-beginners/Know%20Your%20Code/Python/Data%20Visualizaation/PDV.ipynb#ch0000000?line=3'>4</a>\u001b[0m \u001b[39mimport\u001b[39;00m \u001b[39mmatplotlib\u001b[39;00m\u001b[39m.\u001b[39;00m\u001b[39mpyplot\u001b[39;00m \u001b[39mas\u001b[39;00m \u001b[39mplt\u001b[39;00m\n\u001b[0;32m      <a href='vscode-notebook-cell:/c%3A/Users/archa/Archana/open-source-contribution-for-beginners/Know%20Your%20Code/Python/Data%20Visualizaation/PDV.ipynb#ch0000000?line=4'>5</a>\u001b[0m x\u001b[39m=\u001b[39m[\u001b[39m30\u001b[39m, \u001b[39m25\u001b[39m , \u001b[39m10\u001b[39m , \u001b[39m5\u001b[39m ]\n\u001b[0;32m      <a href='vscode-notebook-cell:/c%3A/Users/archa/Archana/open-source-contribution-for-beginners/Know%20Your%20Code/Python/Data%20Visualizaation/PDV.ipynb#ch0000000?line=5'>6</a>\u001b[0m labeks\u001b[39m=\u001b[39m[\u001b[39m'\u001b[39m\u001b[39mPython\u001b[39m\u001b[39m'\u001b[39m,\u001b[39m'\u001b[39m\u001b[39mC\u001b[39m\u001b[39m'\u001b[39m,\u001b[39m'\u001b[39m\u001b[39mC++\u001b[39m\u001b[39m'\u001b[39m,\u001b[39m'\u001b[39m\u001b[39mJava\u001b[39m\u001b[39m'\u001b[39m]\n",
      "\u001b[1;31mModuleNotFoundError\u001b[0m: No module named 'matplotlib'"
     ]
    }
   ],
   "source": [
    "#PIE CHART \n",
    "\n",
    "#Chart 1\n",
    "import matplotlib.pyplot as plt\n",
    "x=[30, 25 , 10 , 5 ]\n",
    "labeks=['Python','C','C++','Java']\n",
    "plt.pie(x,labels=labeks)\n",
    "plt.show()\n",
    "\n",
    "#Chart 2 \n",
    "import matplotlib.pyplot as plt\n",
    "y=[30,45,50,60]\n",
    "labeks=['Mumbai','Delhi','Kolkata','Ahemdabad']\n",
    "plt.pie(y,labels=labeks)\n",
    "plt.show()\n",
    "print('    Corona Cases in Cities ')\n",
    "\n",
    "\n",
    "\n",
    "# HISTORGRAM \n",
    "a_list=[1,2,3,4,5,6,7,4,4]\n",
    "plt.hist(a_list,5)\n",
    "\n",
    "\n",
    "\n",
    "\n",
    "#BAR CHART\n",
    "import matplotlib.pyplot as plt\n",
    "plt.bar([1,3,5,7,9],[5,2,7,8,2],label=\"Data 1\")\n",
    "plt.legend()\n",
    "plt.xlabel('X values')\n",
    "plt.ylabel('Height')\n",
    "plt.title('Vertical Bar chart')\n",
    "plt.show"
   ]
  }
 ],
 "metadata": {
  "interpreter": {
   "hash": "2be5faf79681da6f2a61fdfdd5405d65d042280f7fba6178067603e3a2925119"
  },
  "kernelspec": {
   "display_name": "Python 3.10.2 64-bit",
   "language": "python",
   "name": "python3"
  },
  "language_info": {
   "codemirror_mode": {
    "name": "ipython",
    "version": 3
   },
   "file_extension": ".py",
   "mimetype": "text/x-python",
   "name": "python",
   "nbconvert_exporter": "python",
   "pygments_lexer": "ipython3",
   "version": "3.10.2"
  },
  "orig_nbformat": 4
 },
 "nbformat": 4,
 "nbformat_minor": 2
}
