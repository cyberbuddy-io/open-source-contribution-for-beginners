{
 "cells": [
  {
   "cell_type": "code",
   "execution_count": 1,
   "metadata": {},
   "outputs": [
    {
     "name": "stdout",
     "output_type": "stream",
     "text": [
      "['ram', 'sham', 'gopal']\n"
     ]
    }
   ],
   "source": [
    "#1\n",
    "list=['ram','sham','gopal']\n",
    "print(list)"
   ]
  },
  {
   "cell_type": "code",
   "execution_count": 2,
   "metadata": {},
   "outputs": [
    {
     "name": "stdout",
     "output_type": "stream",
     "text": [
      "ram\n",
      "sham\n",
      "madhav\n",
      "keshav\n",
      "['gopal', 'keshav']\n"
     ]
    }
   ],
   "source": [
    "#2\n",
    "list=['ram','sham','madhav','gopal','keshav']\n",
    "print(list[0])\n",
    "print(list[1])\n",
    "print(list[2])\n",
    "print(list[-1])\n",
    "print(list[3:5])"
   ]
  },
  {
   "cell_type": "code",
   "execution_count": 3,
   "metadata": {},
   "outputs": [
    {
     "name": "stdout",
     "output_type": "stream",
     "text": [
      "ram\n",
      "sham\n",
      "gopal\n"
     ]
    }
   ],
   "source": [
    "#3\n",
    "list=['ram','sham','gopal']\n",
    "for y in list:\n",
    "  print(y)"
   ]
  },
  {
   "cell_type": "code",
   "execution_count": 4,
   "metadata": {},
   "outputs": [
    {
     "name": "stdout",
     "output_type": "stream",
     "text": [
      "Yes,\"Keshav\" is in the name  list\n"
     ]
    }
   ],
   "source": [
    "#4\n",
    "list=['ram','sham','gopal']\n",
    "if 'ram' in list:\n",
    "  print('Yes,\"Keshav\" is in the name  list')\n",
    "else:\n",
    "  print('No,\"ram\" is not in the list')"
   ]
  },
  {
   "cell_type": "code",
   "execution_count": 5,
   "metadata": {},
   "outputs": [
    {
     "name": "stdout",
     "output_type": "stream",
     "text": [
      "No,\"Gopika\" is not in the list\n"
     ]
    }
   ],
   "source": [
    "#5\n",
    "list=['ram','sham','gopal']\n",
    "if 'Gopika' in list:\n",
    "  print('Yes,\"Keshav\" is in the name  list')\n",
    "else:\n",
    "  print('No,\"Gopika\" is not in the list')\n",
    "#Dictionary={'name':['Ram','sham'], 'AGE' :['10,20']}\n",
    "#Sets = {1,2,3}"
   ]
  }
 ],
 "metadata": {
  "interpreter": {
   "hash": "2be5faf79681da6f2a61fdfdd5405d65d042280f7fba6178067603e3a2925119"
  },
  "kernelspec": {
   "display_name": "Python 3.10.2 64-bit",
   "language": "python",
   "name": "python3"
  },
  "language_info": {
   "codemirror_mode": {
    "name": "ipython",
    "version": 3
   },
   "file_extension": ".py",
   "mimetype": "text/x-python",
   "name": "python",
   "nbconvert_exporter": "python",
   "pygments_lexer": "ipython3",
   "version": "3.10.2"
  },
  "orig_nbformat": 4
 },
 "nbformat": 4,
 "nbformat_minor": 2
}
