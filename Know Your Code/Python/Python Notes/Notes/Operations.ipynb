{
 "cells": [
  {
   "cell_type": "code",
   "execution_count": 1,
   "metadata": {},
   "outputs": [
    {
     "name": "stdout",
     "output_type": "stream",
     "text": [
      "20\n",
      "Subtraction of the given variables =  10\n",
      "Addition of the given variables =  20\n",
      "Multiplication of the given variables = 75\n",
      "Division of the given variables = 3.0\n",
      "Modulus of the given variable =  0\n",
      "Exponent of the given variable = 759375\n",
      "Floor division of the given variable= 3\n"
     ]
    }
   ],
   "source": [
    "x=15\n",
    "y=5\n",
    "addition=x+y\n",
    "subtraction=x-y\n",
    "multiplication=x*y\n",
    "division=x/y\n",
    "modulus=x%y\n",
    "exponent=x**y\n",
    "Floor_division=x//y\n",
    "print(addition)\n",
    "print('Subtraction of the given variables = ',subtraction)\n",
    "print('Addition of the given variables = ',addition)\n",
    "print('Multiplication of the given variables =',multiplication)\n",
    "print('Division of the given variables =',division)\n",
    "print('Modulus of the given variable = ',modulus)\n",
    "print('Exponent of the given variable =',exponent)\n",
    "print('Floor division of the given variable=',Floor_division)"
   ]
  }
 ],
 "metadata": {
  "interpreter": {
   "hash": "2be5faf79681da6f2a61fdfdd5405d65d042280f7fba6178067603e3a2925119"
  },
  "kernelspec": {
   "display_name": "Python 3.10.2 64-bit",
   "language": "python",
   "name": "python3"
  },
  "language_info": {
   "codemirror_mode": {
    "name": "ipython",
    "version": 3
   },
   "file_extension": ".py",
   "mimetype": "text/x-python",
   "name": "python",
   "nbconvert_exporter": "python",
   "pygments_lexer": "ipython3",
   "version": "3.10.2"
  },
  "orig_nbformat": 4
 },
 "nbformat": 4,
 "nbformat_minor": 2
}
