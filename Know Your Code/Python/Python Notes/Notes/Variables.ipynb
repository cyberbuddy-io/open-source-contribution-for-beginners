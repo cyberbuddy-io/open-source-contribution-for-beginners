{
 "cells": [
  {
   "cell_type": "code",
   "execution_count": 2,
   "metadata": {},
   "outputs": [
    {
     "name": "stdout",
     "output_type": "stream",
     "text": [
      "This is the vale of c 10\n"
     ]
    }
   ],
   "source": [
    "#Program 1\n",
    "a=10\n",
    "c=23\n",
    "d=11\n",
    "e=22\n",
    "print('This is the value of c',a)"
   ]
  },
  {
   "cell_type": "code",
   "execution_count": 3,
   "metadata": {},
   "outputs": [
    {
     "data": {
      "text/plain": [
       "'l'"
      ]
     },
     "execution_count": 3,
     "metadata": {},
     "output_type": "execute_result"
    }
   ],
   "source": [
    "#Program 2\n",
    "sentence=\"Hello\"\n",
    "sentence[1]\n",
    "sentence[-1]\n",
    "sentence[-2]"
   ]
  },
  {
   "cell_type": "code",
   "execution_count": 4,
   "metadata": {},
   "outputs": [
    {
     "name": "stdout",
     "output_type": "stream",
     "text": [
      "Archana is good girl\n"
     ]
    }
   ],
   "source": [
    "#Program 3\n",
    "sentence=\"Hello\"\n",
    "sentence[3]\n",
    "name='Archana'\n",
    "name +  ' is good girl'\n",
    "sent='%s is good girl'\n",
    "print(sent%name)"
   ]
  },
  {
   "cell_type": "code",
   "execution_count": 5,
   "metadata": {},
   "outputs": [
    {
     "name": "stdout",
     "output_type": "stream",
     "text": [
      "12\n",
      "34\n",
      "253\n",
      "2.090909090909091\n",
      "1\n",
      "Archana Kalathiya\n"
     ]
    }
   ],
   "source": [
    "#Program 4\n",
    "value=23\n",
    "value1=11\n",
    "print(value-value1)\n",
    "print(value+value1)\n",
    "print(value*value1)\n",
    "print(value/value1)\n",
    "print(value%value1)\n",
    "name='Archana'\n",
    "surname=\"Kalathiya\"\n",
    "print(name +' '+surname)"
   ]
  },
  {
   "cell_type": "code",
   "execution_count": 6,
   "metadata": {},
   "outputs": [
    {
     "name": "stdout",
     "output_type": "stream",
     "text": [
      "23\n",
      "11\n"
     ]
    }
   ],
   "source": [
    "#Program 5\n",
    "num=23\n",
    "print(num)\n",
    "num1=11\n",
    "print(num1)"
   ]
  }
 ],
 "metadata": {
  "interpreter": {
   "hash": "2be5faf79681da6f2a61fdfdd5405d65d042280f7fba6178067603e3a2925119"
  },
  "kernelspec": {
   "display_name": "Python 3.10.2 64-bit",
   "language": "python",
   "name": "python3"
  },
  "language_info": {
   "codemirror_mode": {
    "name": "ipython",
    "version": 3
   },
   "file_extension": ".py",
   "mimetype": "text/x-python",
   "name": "python",
   "nbconvert_exporter": "python",
   "pygments_lexer": "ipython3",
   "version": "3.10.2"
  },
  "orig_nbformat": 4
 },
 "nbformat": 4,
 "nbformat_minor": 2
}
