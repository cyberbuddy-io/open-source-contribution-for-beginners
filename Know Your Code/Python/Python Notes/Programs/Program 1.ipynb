{
 "cells": [
  {
   "cell_type": "code",
   "execution_count": 1,
   "metadata": {},
   "outputs": [
    {
     "name": "stdout",
     "output_type": "stream",
     "text": [
      "2004 is a leap year\n"
     ]
    }
   ],
   "source": [
    "#User enters the year\n",
    "#year = int(input(\"Enter year: \"))\n",
    "\n",
    "year=2004\n",
    "#leap year check\n",
    "if year %4 == 0 and year % 100 !=0:\n",
    "    print(year, \"is a leap year\") \n",
    "elif year % 100 == 0:\n",
    "  print(year,\"is not a leap year\")\n",
    "elif year % 400 == 0 :\n",
    "  print(year,\"is a leap year\")\n",
    "else :\n",
    "  print(year, \" is not a leap year\")"
   ]
  }
 ],
 "metadata": {
  "interpreter": {
   "hash": "2be5faf79681da6f2a61fdfdd5405d65d042280f7fba6178067603e3a2925119"
  },
  "kernelspec": {
   "display_name": "Python 3.10.2 64-bit",
   "language": "python",
   "name": "python3"
  },
  "language_info": {
   "codemirror_mode": {
    "name": "ipython",
    "version": 3
   },
   "file_extension": ".py",
   "mimetype": "text/x-python",
   "name": "python",
   "nbconvert_exporter": "python",
   "pygments_lexer": "ipython3",
   "version": "3.10.2"
  },
  "orig_nbformat": 4
 },
 "nbformat": 4,
 "nbformat_minor": 2
}
