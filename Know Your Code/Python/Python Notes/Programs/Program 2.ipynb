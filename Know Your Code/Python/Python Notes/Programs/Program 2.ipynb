{
 "cells": [
  {
   "cell_type": "code",
   "execution_count": 1,
   "metadata": {},
   "outputs": [],
   "source": [
    "# taking input from year\n",
    "number = int(input(\"Enter any number: \"))\n",
    "number=67\n",
    "\n",
    "#prime number is always greater than 1\n",
    "if number > 1:\n",
    "  for i in range(2,number):\n",
    "    if (number % i) == 0:\n",
    "       print (number,\"is not a prime number\")\n",
    "    break\n",
    "else:\n",
    "  print(number,\"is not a prime number\")\n",
    "  #if the entered number  is les than or equal to 1\n",
    "  # then it is not prime number"
   ]
  }
 ],
 "metadata": {
  "interpreter": {
   "hash": "2be5faf79681da6f2a61fdfdd5405d65d042280f7fba6178067603e3a2925119"
  },
  "kernelspec": {
   "display_name": "Python 3.10.2 64-bit",
   "language": "python",
   "name": "python3"
  },
  "language_info": {
   "codemirror_mode": {
    "name": "ipython",
    "version": 3
   },
   "file_extension": ".py",
   "mimetype": "text/x-python",
   "name": "python",
   "nbconvert_exporter": "python",
   "pygments_lexer": "ipython3",
   "version": "3.10.2"
  },
  "orig_nbformat": 4
 },
 "nbformat": 4,
 "nbformat_minor": 2
}
