{
 "cells": [
  {
   "cell_type": "code",
   "execution_count": 3,
   "metadata": {},
   "outputs": [
    {
     "name": "stdout",
     "output_type": "stream",
     "text": [
      "The largestnummber is  23\n"
     ]
    }
   ],
   "source": [
    "#Python program to find the largest number among the three input niumbers\n",
    "# Change the values of num1 , num2 ,and num3\n",
    "# for a different result\n",
    "\n",
    "num1=200\n",
    "num2=-250\n",
    "num3=270\n",
    "\n",
    "#un commment following lines to take three numbers from user\n",
    "num1 = int(input(\"Enter first number: \")) \n",
    "num2 = int(input(\"Enter second number: \")) \n",
    "num3 = int(input(\"Enter third number: \")) \n",
    "\n",
    "if (num1 >= num2) and (num1 >= num3):\n",
    "  largest = num1\n",
    "elif (num2 >= num1) and (num2 >= num3):\n",
    "  largest = num2 \n",
    "else: \n",
    "  largest = num3\n",
    "print (\"The largestnummber is \", largest)"
   ]
  }
 ],
 "metadata": {
  "interpreter": {
   "hash": "2be5faf79681da6f2a61fdfdd5405d65d042280f7fba6178067603e3a2925119"
  },
  "kernelspec": {
   "display_name": "Python 3.10.2 64-bit",
   "language": "python",
   "name": "python3"
  },
  "language_info": {
   "codemirror_mode": {
    "name": "ipython",
    "version": 3
   },
   "file_extension": ".py",
   "mimetype": "text/x-python",
   "name": "python",
   "nbconvert_exporter": "python",
   "pygments_lexer": "ipython3",
   "version": "3.10.2"
  },
  "orig_nbformat": 4
 },
 "nbformat": 4,
 "nbformat_minor": 2
}
