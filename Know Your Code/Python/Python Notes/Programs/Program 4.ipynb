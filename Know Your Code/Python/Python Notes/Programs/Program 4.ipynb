{
 "cells": [
  {
   "cell_type": "code",
   "execution_count": 1,
   "metadata": {},
   "outputs": [
    {
     "name": "stdout",
     "output_type": "stream",
     "text": [
      "factorial of 6  is: 720\n"
     ]
    }
   ],
   "source": [
    "# Example of the recursion in python to\n",
    "#find the factorial of a given number\n",
    "\n",
    "def factorial(num):\n",
    "  \"\"\"This function calls itself to find the factorial of a number\"\"\"\n",
    "  if num == 1:\n",
    "     return 1\n",
    "  else:  \n",
    "       return (num * factorial(num- 1))\n",
    "num = 6\n",
    "print(\"factorial of\" , num, \" is:\", factorial(num))"
   ]
  }
 ],
 "metadata": {
  "interpreter": {
   "hash": "2be5faf79681da6f2a61fdfdd5405d65d042280f7fba6178067603e3a2925119"
  },
  "kernelspec": {
   "display_name": "Python 3.10.2 64-bit",
   "language": "python",
   "name": "python3"
  },
  "language_info": {
   "codemirror_mode": {
    "name": "ipython",
    "version": 3
   },
   "file_extension": ".py",
   "mimetype": "text/x-python",
   "name": "python",
   "nbconvert_exporter": "python",
   "pygments_lexer": "ipython3",
   "version": "3.10.2"
  },
  "orig_nbformat": 4
 },
 "nbformat": 4,
 "nbformat_minor": 2
}
