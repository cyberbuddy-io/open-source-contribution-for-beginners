{
 "cells": [
  {
   "cell_type": "code",
   "execution_count": 1,
   "metadata": {},
   "outputs": [
    {
     "ename": "ModuleNotFoundError",
     "evalue": "No module named 'requests'",
     "output_type": "error",
     "traceback": [
      "\u001b[1;31m---------------------------------------------------------------------------\u001b[0m",
      "\u001b[1;31mModuleNotFoundError\u001b[0m                       Traceback (most recent call last)",
      "\u001b[1;32mc:\\Users\\archa\\Archana\\open-source-contribution-for-beginners\\Know Your Code\\Python\\Weather Statistics\\Python Program of Weather Statistics of city entered by user.ipynb Cell 1'\u001b[0m in \u001b[0;36m<cell line: 3>\u001b[1;34m()\u001b[0m\n\u001b[0;32m      <a href='vscode-notebook-cell:/c%3A/Users/archa/Archana/open-source-contribution-for-beginners/Know%20Your%20Code/Python/Weather%20Statistics/Python%20Program%20of%20Weather%20Statistics%20of%20city%20entered%20by%20user.ipynb#ch0000000?line=0'>1</a>\u001b[0m \u001b[39m#Python Program of Weather Statistics of city entered by user\u001b[39;00m\n\u001b[1;32m----> <a href='vscode-notebook-cell:/c%3A/Users/archa/Archana/open-source-contribution-for-beginners/Know%20Your%20Code/Python/Weather%20Statistics/Python%20Program%20of%20Weather%20Statistics%20of%20city%20entered%20by%20user.ipynb#ch0000000?line=2'>3</a>\u001b[0m \u001b[39mimport\u001b[39;00m \u001b[39mrequests\u001b[39;00m\n\u001b[0;32m      <a href='vscode-notebook-cell:/c%3A/Users/archa/Archana/open-source-contribution-for-beginners/Know%20Your%20Code/Python/Weather%20Statistics/Python%20Program%20of%20Weather%20Statistics%20of%20city%20entered%20by%20user.ipynb#ch0000000?line=3'>4</a>\u001b[0m \u001b[39m#import os\u001b[39;00m\n\u001b[0;32m      <a href='vscode-notebook-cell:/c%3A/Users/archa/Archana/open-source-contribution-for-beginners/Know%20Your%20Code/Python/Weather%20Statistics/Python%20Program%20of%20Weather%20Statistics%20of%20city%20entered%20by%20user.ipynb#ch0000000?line=4'>5</a>\u001b[0m \u001b[39mfrom\u001b[39;00m \u001b[39mdatetime\u001b[39;00m \u001b[39mimport\u001b[39;00m datetime\n",
      "\u001b[1;31mModuleNotFoundError\u001b[0m: No module named 'requests'"
     ]
    }
   ],
   "source": [
    "#Python Program of Weather Statistics of city entered by user\n",
    "\n",
    "import requests\n",
    "#import os\n",
    "from datetime import datetime\n",
    " \n",
    "api_key = '87d845b0b6cf29baa1a73cc34b067a95'\n",
    "location = input(\"Enter the city name: \")\n",
    " \n",
    "complete_api_link = \"https://api.openweathermap.org/data/2.5/weather?q=\"+location+\"&appid=\"+api_key\n",
    "api_link = requests.get(complete_api_link)\n",
    "api_data = api_link.json()\n",
    " \n",
    "#create variables to store and display data\n",
    "temp_city = ((api_data['main']['temp']) - 273.15)\n",
    "weather_desc = api_data['weather'][0]['description']\n",
    "hmdt = api_data['main']['humidity']\n",
    "wind_spd = api_data['wind']['speed']\n",
    "date_time = datetime.now().strftime(\"%d %b %Y | %I:%M:%S %p\")\n",
    " \n",
    "print (\"-------------------------------------------------------------\")\n",
    "print (\"Weather Stats for - {}  || {}\".format(location.upper(), date_time))\n",
    "print (\"-------------------------------------------------------------\")\n",
    " \n",
    "print (\"Current temperature is: {:.2f} deg C\".format(temp_city))\n",
    "print (\"Current weather desc  :\",weather_desc)\n",
    "print (\"Current Humidity      :\",hmdt, '%')\n",
    "print (\"Current wind speed    :\",wind_spd ,'kmph')\n",
    " \n",
    "print(\"====================================================\")\n",
    " \n",
    " \n",
    "# making a list so that i can print the info to a txt \n",
    "txtlist = [temp_city,weather_desc,hmdt,wind_spd,date_time]\n",
    "#using open() buit-in function to write to a text file\n",
    "with open(\"textfile.txt\" , mode= 'w' ,encoding= 'utf-8') as f :     \n",
    "                                     #encoding = utf-8 for linux and cp1252 for win\n",
    "    f.write(\"------------------------------------------------------------- \\n \")   \n",
    "    f.write(\"Weather Stats for - {}  || {}\".format(location.upper(), date_time))\n",
    "    f.write(\"\\n ------------------------------------------------------------- \\n\")\n",
    "    f.write(\"Current temperature is: {:.2f} deg C\\n\".format(txtlist[0]))\n",
    "    \n",
    "    f.write(\"{},{} \\n\".format(\"Current weather desc  :\" ,txtlist[1]))\n",
    "    f.write(\"{},{},{} \\n\".format(\"Current Humidity      :\",txtlist[2],\"%\"))\n",
    "    f.write(\"{},{},{} \\n\".format(\"Current wind speed    :\",txtlist[3],\"kmph\"))\n",
    "    f.write(\"====================================================\")"
   ]
  }
 ],
 "metadata": {
  "interpreter": {
   "hash": "2be5faf79681da6f2a61fdfdd5405d65d042280f7fba6178067603e3a2925119"
  },
  "kernelspec": {
   "display_name": "Python 3.10.2 64-bit",
   "language": "python",
   "name": "python3"
  },
  "language_info": {
   "codemirror_mode": {
    "name": "ipython",
    "version": 3
   },
   "file_extension": ".py",
   "mimetype": "text/x-python",
   "name": "python",
   "nbconvert_exporter": "python",
   "pygments_lexer": "ipython3",
   "version": "3.10.2"
  },
  "orig_nbformat": 4
 },
 "nbformat": 4,
 "nbformat_minor": 2
}
